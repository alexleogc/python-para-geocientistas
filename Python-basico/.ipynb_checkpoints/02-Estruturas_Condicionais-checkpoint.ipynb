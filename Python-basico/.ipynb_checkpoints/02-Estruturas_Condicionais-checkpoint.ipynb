{
 "cells": [
  {
   "cell_type": "markdown",
   "metadata": {},
   "source": [
    "## Expressões Lógicas"
   ]
  },
  {
   "cell_type": "markdown",
   "metadata": {},
   "source": [
    "### Operadores relacionais"
   ]
  },
  {
   "cell_type": "markdown",
   "metadata": {},
   "source": [
    "<table>\n",
    "    <tr>\n",
    "        <th><b>Operador</b></th>\n",
    "        <th><b>Função</b></th>\n",
    "    </tr>\n",
    "    <tr>\n",
    "        <td>a == b</td>\n",
    "        <td>Igual a</td>\n",
    "    </tr>\n",
    "    <tr>\n",
    "        <td>a != b</td>\n",
    "        <td>Diferente de</td>\n",
    "    </tr>\n",
    "    <tr>\n",
    "        <td>a > b</td>\n",
    "        <td>Maior que</td>\n",
    "    </tr>\n",
    "    <tr>\n",
    "        <td>a >= b</td>\n",
    "        <td>Maior ou igual a</td>\n",
    "    </tr>\n",
    "    <tr>\n",
    "        <td>a &lt; b</td>\n",
    "        <td>Menor que</td>\n",
    "    </tr>\n",
    "    <tr>\n",
    "        <td>a &lt;= b</td>\n",
    "        <td>Menor ou igual a</td>\n",
    "    </tr>\n",
    "</table>"
   ]
  },
  {
   "cell_type": "code",
   "execution_count": 1,
   "metadata": {},
   "outputs": [
    {
     "data": {
      "text/plain": [
       "False"
      ]
     },
     "execution_count": 1,
     "metadata": {},
     "output_type": "execute_result"
    }
   ],
   "source": [
    "10 == 7"
   ]
  },
  {
   "cell_type": "code",
   "execution_count": 2,
   "metadata": {},
   "outputs": [
    {
     "data": {
      "text/plain": [
       "True"
      ]
     },
     "execution_count": 2,
     "metadata": {},
     "output_type": "execute_result"
    }
   ],
   "source": [
    "10 != 7"
   ]
  },
  {
   "cell_type": "code",
   "execution_count": 4,
   "metadata": {},
   "outputs": [
    {
     "data": {
      "text/plain": [
       "True"
      ]
     },
     "execution_count": 4,
     "metadata": {},
     "output_type": "execute_result"
    }
   ],
   "source": [
    "10 > 7 "
   ]
  },
  {
   "cell_type": "code",
   "execution_count": 7,
   "metadata": {},
   "outputs": [
    {
     "data": {
      "text/plain": [
       "True"
      ]
     },
     "execution_count": 7,
     "metadata": {},
     "output_type": "execute_result"
    }
   ],
   "source": [
    "10 <= 10"
   ]
  },
  {
   "cell_type": "markdown",
   "metadata": {},
   "source": [
    "### Operadores Lógicos"
   ]
  },
  {
   "cell_type": "markdown",
   "metadata": {},
   "source": [
    "Tabela verdade da conjunção:<br>\n",
    "Caso <b>apenas uma</b> proposição seja <b>falsa</b>, o <b>resultado será falso</b> independente do resto.\n",
    "<table>\n",
    "    <tr>\n",
    "        <th><b>a</b></th>\n",
    "        <th><b>b</b></th>\n",
    "        <th><b>a 'e' b</b></th>\n",
    "    </tr>\n",
    "    <tr>\n",
    "        <td>True</td>\n",
    "        <td>True</td>\n",
    "        <td>True</td>\n",
    "    </tr>\n",
    "    <tr>\n",
    "        <td>True</td>\n",
    "        <td>False</td>\n",
    "        <td>False</td>\n",
    "    </tr>\n",
    "    <tr>\n",
    "        <td>False</td>\n",
    "        <td>True</td>\n",
    "        <td>False</td>\n",
    "    </tr>\n",
    "    <tr>\n",
    "        <td>False</td>\n",
    "        <td>False</td>\n",
    "        <td>False</td>\n",
    "    </tr>\n",
    "</table>"
   ]
  },
  {
   "cell_type": "markdown",
   "metadata": {},
   "source": [
    "Tabela verdade da disjunção:<br>\n",
    "Caso <b>apenas uma</b> proposição seja <b>verdadeira</b>, o <b>resultado será verdadeiro</b> independente do resto.\n",
    "<table>\n",
    "    <tr>\n",
    "        <th><b>a</b></th>\n",
    "        <th><b>b</b></th>\n",
    "        <th><b>a 'ou' b</b></th>\n",
    "    </tr>\n",
    "    <tr>\n",
    "        <td>True</td>\n",
    "        <td>True</td>\n",
    "        <td>True</td>\n",
    "    </tr>\n",
    "    <tr>\n",
    "        <td>True</td>\n",
    "        <td>False</td>\n",
    "        <td>True</td>\n",
    "    </tr>\n",
    "    <tr>\n",
    "        <td>False</td>\n",
    "        <td>True</td>\n",
    "        <td>True</td>\n",
    "    </tr>\n",
    "    <tr>\n",
    "        <td>False</td>\n",
    "        <td>False</td>\n",
    "        <td>False</td>\n",
    "    </tr>\n",
    "</table>"
   ]
  },
  {
   "cell_type": "code",
   "execution_count": 9,
   "metadata": {},
   "outputs": [
    {
     "name": "stdout",
     "output_type": "stream",
     "text": [
      "10 maior que 8: True\n",
      "25 menor que 10: False\n"
     ]
    }
   ],
   "source": [
    "print('10 maior que 8:',10 > 8)\n",
    "print('25 menor que 10:',25<10)"
   ]
  },
  {
   "cell_type": "code",
   "execution_count": 10,
   "metadata": {},
   "outputs": [
    {
     "name": "stdout",
     "output_type": "stream",
     "text": [
      "10 > 8 'e' 25 < 8: False\n",
      "10 > 8 'ou' 25 < 8: True\n"
     ]
    }
   ],
   "source": [
    "print('10 > 8 \\'e\\' 25 < 8:', 10 > 8 and 25 < 8)\n",
    "print('10 > 8 \\'ou\\' 25 < 8:', 10 > 8 or 25 < 8)"
   ]
  },
  {
   "cell_type": "markdown",
   "metadata": {},
   "source": [
    "#### In "
   ]
  },
  {
   "cell_type": "code",
   "execution_count": 14,
   "metadata": {},
   "outputs": [],
   "source": [
    "conj = [1,3,5,7,9,11]"
   ]
  },
  {
   "cell_type": "code",
   "execution_count": 15,
   "metadata": {},
   "outputs": [
    {
     "data": {
      "text/plain": [
       "True"
      ]
     },
     "execution_count": 15,
     "metadata": {},
     "output_type": "execute_result"
    }
   ],
   "source": [
    "9 in conj"
   ]
  },
  {
   "cell_type": "code",
   "execution_count": 16,
   "metadata": {},
   "outputs": [
    {
     "data": {
      "text/plain": [
       "False"
      ]
     },
     "execution_count": 16,
     "metadata": {},
     "output_type": "execute_result"
    }
   ],
   "source": [
    "2 in conj"
   ]
  },
  {
   "cell_type": "markdown",
   "metadata": {},
   "source": [
    "#### Not in"
   ]
  },
  {
   "cell_type": "code",
   "execution_count": 13,
   "metadata": {},
   "outputs": [
    {
     "data": {
      "text/plain": [
       "True"
      ]
     },
     "execution_count": 13,
     "metadata": {},
     "output_type": "execute_result"
    }
   ],
   "source": [
    "'java' not in 'Estamos estudando python!'"
   ]
  },
  {
   "cell_type": "markdown",
   "metadata": {},
   "source": [
    "## Estruturas condicionais"
   ]
  },
  {
   "cell_type": "markdown",
   "metadata": {},
   "source": [
    "Basicamente, a maior parte das atividades realizadas por dispositivos eletrônicos acontece utilizando o conceito de estruturas condicionais.<br> Blocos de condicionais servem para expressar o que irá acontecer no seu programa <b>se</b> uma determinada condição for atendida, <b>caso contrário</b> o programa poderá executar outra ação."
   ]
  },
  {
   "cell_type": "markdown",
   "metadata": {},
   "source": [
    "#### Como essas estruturas funcionam?\n",
    "Elas funcionam através da verificação do resultado de uma expressão.\n",
    "```python\n",
    "if(expressão):\n",
    "    #Código\n",
    "else: \n",
    "    #Código\n",
    "```\n",
    "Nossa expressão pode utilizar os seguintes operadores:\n",
    "```python\n",
    "var1 == var2\n",
    "var1 != var2\n",
    "Var1  > var2\n",
    "var1 >= var2\n",
    "Var1 <  var2\n",
    "var1 <= var2\n",
    "```\n",
    "Esse operadores irão gerar uma reposta <b>booleana</b>: \n",
    "```python \n",
    "True/False\n",
    "```\n",
    "<b>Obs:</b> Existem outros operadores no python que podem gerar uma resposta booleana, porém só iremos utilizar esses por enquanto."
   ]
  },
  {
   "cell_type": "markdown",
   "metadata": {},
   "source": [
    "#### Expressões:"
   ]
  },
  {
   "cell_type": "code",
   "execution_count": 2,
   "metadata": {},
   "outputs": [
    {
     "data": {
      "text/plain": [
       "True"
      ]
     },
     "execution_count": 2,
     "metadata": {},
     "output_type": "execute_result"
    }
   ],
   "source": [
    "10==10"
   ]
  },
  {
   "cell_type": "code",
   "execution_count": 3,
   "metadata": {},
   "outputs": [
    {
     "data": {
      "text/plain": [
       "False"
      ]
     },
     "execution_count": 3,
     "metadata": {},
     "output_type": "execute_result"
    }
   ],
   "source": [
    "7>10"
   ]
  },
  {
   "cell_type": "code",
   "execution_count": 4,
   "metadata": {},
   "outputs": [
    {
     "data": {
      "text/plain": [
       "True"
      ]
     },
     "execution_count": 4,
     "metadata": {},
     "output_type": "execute_result"
    }
   ],
   "source": [
    "'python' != 'fortran'"
   ]
  },
  {
   "cell_type": "markdown",
   "metadata": {},
   "source": [
    "### No python, possuímos as seguintes estruturas: If / Elif / Else"
   ]
  },
  {
   "cell_type": "markdown",
   "metadata": {},
   "source": [
    "#### Estrutura básica"
   ]
  },
  {
   "cell_type": "code",
   "execution_count": 9,
   "metadata": {},
   "outputs": [],
   "source": [
    "x = 10"
   ]
  },
  {
   "cell_type": "code",
   "execution_count": 10,
   "metadata": {},
   "outputs": [
    {
     "name": "stdout",
     "output_type": "stream",
     "text": [
      "De fato x é 10.\n"
     ]
    }
   ],
   "source": [
    "if(x==10):\n",
    "    print('De fato x é 10.')\n",
    "else:\n",
    "    print('Não é 10!')"
   ]
  },
  {
   "cell_type": "code",
   "execution_count": 38,
   "metadata": {},
   "outputs": [
    {
     "name": "stdout",
     "output_type": "stream",
     "text": [
      "7 * 10 é maior que 50.\n"
     ]
    }
   ],
   "source": [
    "x = 7\n",
    "y = 10\n",
    "z = x*y\n",
    "if(z>50):\n",
    "    print(f'{x} * {y} é maior que 50.')\n",
    "else:\n",
    "    print(f'{x} * {y} é menor que 50.')"
   ]
  },
  {
   "cell_type": "markdown",
   "metadata": {},
   "source": [
    "#### Podemos usar o if sozinho"
   ]
  },
  {
   "cell_type": "code",
   "execution_count": 11,
   "metadata": {},
   "outputs": [
    {
     "name": "stdout",
     "output_type": "stream",
     "text": [
      "De fato x é 10.\n"
     ]
    }
   ],
   "source": [
    "if(x==10):\n",
    "    print('De fato x é 10.')"
   ]
  },
  {
   "cell_type": "code",
   "execution_count": 12,
   "metadata": {},
   "outputs": [
    {
     "ename": "SyntaxError",
     "evalue": "invalid syntax (<ipython-input-12-b6c55fbccec1>, line 1)",
     "output_type": "error",
     "traceback": [
      "\u001b[0;36m  File \u001b[0;32m\"<ipython-input-12-b6c55fbccec1>\"\u001b[0;36m, line \u001b[0;32m1\u001b[0m\n\u001b[0;31m    else: #Já o else, necessáriamente precisa de um \"if\"\u001b[0m\n\u001b[0m       ^\u001b[0m\n\u001b[0;31mSyntaxError\u001b[0m\u001b[0;31m:\u001b[0m invalid syntax\n"
     ]
    }
   ],
   "source": [
    "else: #Já o else, necessáriamente precisa de um \"if\""
   ]
  },
  {
   "cell_type": "markdown",
   "metadata": {},
   "source": [
    "#### Qual será o output?  "
   ]
  },
  {
   "cell_type": "code",
   "execution_count": 13,
   "metadata": {},
   "outputs": [],
   "source": [
    "x = 10"
   ]
  },
  {
   "cell_type": "code",
   "execution_count": 14,
   "metadata": {},
   "outputs": [
    {
     "name": "stdout",
     "output_type": "stream",
     "text": [
      "De fato é 10.\n",
      "x não é 10!\n"
     ]
    }
   ],
   "source": [
    "if(x==10):\n",
    "    print('De fato é 10.')\n",
    "if(x==20):\n",
    "    print('Na real, é 20!')\n",
    "else:\n",
    "    print('x não é 10!')"
   ]
  },
  {
   "cell_type": "markdown",
   "metadata": {},
   "source": [
    "O else estará sempre ligado apenas ao ultimo \"if\"."
   ]
  },
  {
   "cell_type": "markdown",
   "metadata": {},
   "source": [
    "#### Podemos utilizar múltiplos condicionais"
   ]
  },
  {
   "cell_type": "code",
   "execution_count": 15,
   "metadata": {},
   "outputs": [
    {
     "name": "stdout",
     "output_type": "stream",
     "text": [
      "De fato é 10.\n"
     ]
    }
   ],
   "source": [
    "if(x==10):\n",
    "    print('De fato é 10.')\n",
    "elif(x==20):\n",
    "    print('Na real, é 20!')\n",
    "else:\n",
    "    print('x não é 10!')"
   ]
  },
  {
   "cell_type": "code",
   "execution_count": 16,
   "metadata": {},
   "outputs": [
    {
     "name": "stdout",
     "output_type": "stream",
     "text": [
      "Na real, é 20!\n"
     ]
    }
   ],
   "source": [
    "x = 20\n",
    "if(x==10):\n",
    "    print('De fato é 10.')\n",
    "elif(x==20):\n",
    "    print('Na real, é 20!')\n",
    "else:\n",
    "    print('x não é %d!'%x)"
   ]
  },
  {
   "cell_type": "markdown",
   "metadata": {},
   "source": [
    "#### Existe alguma diferença entre as estruturas?"
   ]
  },
  {
   "cell_type": "code",
   "execution_count": 2,
   "metadata": {},
   "outputs": [],
   "source": [
    "x = 10"
   ]
  },
  {
   "cell_type": "code",
   "execution_count": 3,
   "metadata": {},
   "outputs": [
    {
     "name": "stdout",
     "output_type": "stream",
     "text": [
      "O valor de x é 10\n",
      "O valor de x é 10 e é divisível por 2.\n",
      "O valor de x é 10 e é divisível por 5.\n"
     ]
    }
   ],
   "source": [
    "if(x==10):\n",
    "    print('O valor de x é',x)\n",
    "if(x%2==0):\n",
    "    print('O valor de x é',x,'e é divisível por 2.')\n",
    "if(x%5==0):\n",
    "    print('O valor de x é',x,'e é divisível por 5.')\n",
    "else:\n",
    "    print(x,'é ímpar')"
   ]
  },
  {
   "cell_type": "code",
   "execution_count": 4,
   "metadata": {},
   "outputs": [
    {
     "name": "stdout",
     "output_type": "stream",
     "text": [
      "O valor de x é 10\n"
     ]
    }
   ],
   "source": [
    "if(x==10):\n",
    "    print('O valor de x é',x)\n",
    "elif(x%2==0):\n",
    "    print('O valor de x é',x,'e é divisível por 2.')\n",
    "elif(x%5==0):\n",
    "    print('O valor de x é',x,'e é divisível por 5.')\n",
    "else:\n",
    "    print(x,'é ímpar')"
   ]
  },
  {
   "cell_type": "markdown",
   "metadata": {},
   "source": [
    "#### Como de fato as condicionais funcionam?"
   ]
  },
  {
   "cell_type": "code",
   "execution_count": 24,
   "metadata": {},
   "outputs": [
    {
     "name": "stdout",
     "output_type": "stream",
     "text": [
      "De fato é 10.\n",
      "Valor de x = 30\n"
     ]
    }
   ],
   "source": [
    "x = 10\n",
    "if(x==10):\n",
    "    print('De fato é 10.')\n",
    "    x = 30\n",
    "elif(x==30):\n",
    "    print('Acho que é 30!')\n",
    "else:\n",
    "    print('Não é 10!')\n",
    "print('Valor de x =',x)"
   ]
  },
  {
   "cell_type": "markdown",
   "metadata": {},
   "source": [
    "#### Condicionais aninhadas"
   ]
  },
  {
   "cell_type": "code",
   "execution_count": 25,
   "metadata": {},
   "outputs": [],
   "source": [
    "import numpy as np"
   ]
  },
  {
   "cell_type": "code",
   "execution_count": 26,
   "metadata": {},
   "outputs": [],
   "source": [
    "numeros = np.arange(100)"
   ]
  },
  {
   "cell_type": "code",
   "execution_count": 27,
   "metadata": {},
   "outputs": [],
   "source": [
    "q1 = [] ; q2 = [] ; q3 = [] ; q4 = []\n",
    "for numero in numeros:\n",
    "    if(numero>50): # numero > 50\n",
    "        if(numero>75): # 50 < numero < 100\n",
    "            q4.append(numero)\n",
    "        else: # 50 < numero < 100\n",
    "            q3.append(numero)\n",
    "    else: # numero < 50\n",
    "        if(numero>25): # 25 < numero < 50\n",
    "            q2.append(numero)\n",
    "        else: # numero < 25\n",
    "            q1.append(numero)"
   ]
  },
  {
   "cell_type": "code",
   "execution_count": 28,
   "metadata": {},
   "outputs": [
    {
     "name": "stdout",
     "output_type": "stream",
     "text": [
      "[0, 1, 2, 3, 4, 5, 6, 7, 8, 9, 10, 11, 12, 13, 14, 15, 16, 17, 18, 19, 20, 21, 22, 23, 24, 25]\n",
      "[26, 27, 28, 29, 30, 31, 32, 33, 34, 35, 36, 37, 38, 39, 40, 41, 42, 43, 44, 45, 46, 47, 48, 49, 50]\n",
      "[51, 52, 53, 54, 55, 56, 57, 58, 59, 60, 61, 62, 63, 64, 65, 66, 67, 68, 69, 70, 71, 72, 73, 74, 75]\n",
      "[76, 77, 78, 79, 80, 81, 82, 83, 84, 85, 86, 87, 88, 89, 90, 91, 92, 93, 94, 95, 96, 97, 98, 99]\n"
     ]
    }
   ],
   "source": [
    "print(q1)\n",
    "print(q2)\n",
    "print(q3)\n",
    "print(q4)"
   ]
  },
  {
   "cell_type": "markdown",
   "metadata": {},
   "source": [
    "#### Coisas não permitidas:"
   ]
  },
  {
   "cell_type": "code",
   "execution_count": 29,
   "metadata": {},
   "outputs": [
    {
     "ename": "SyntaxError",
     "evalue": "invalid syntax (<ipython-input-29-2504c64e1391>, line 1)",
     "output_type": "error",
     "traceback": [
      "\u001b[0;36m  File \u001b[0;32m\"<ipython-input-29-2504c64e1391>\"\u001b[0;36m, line \u001b[0;32m1\u001b[0m\n\u001b[0;31m    else: #Else sozinho\u001b[0m\n\u001b[0m       ^\u001b[0m\n\u001b[0;31mSyntaxError\u001b[0m\u001b[0;31m:\u001b[0m invalid syntax\n"
     ]
    }
   ],
   "source": [
    "else: #Else sozinho"
   ]
  },
  {
   "cell_type": "code",
   "execution_count": 30,
   "metadata": {
    "scrolled": true
   },
   "outputs": [
    {
     "ename": "SyntaxError",
     "evalue": "invalid syntax (<ipython-input-30-b2c5df156926>, line 1)",
     "output_type": "error",
     "traceback": [
      "\u001b[0;36m  File \u001b[0;32m\"<ipython-input-30-b2c5df156926>\"\u001b[0;36m, line \u001b[0;32m1\u001b[0m\n\u001b[0;31m    if: #If sem condição\u001b[0m\n\u001b[0m      ^\u001b[0m\n\u001b[0;31mSyntaxError\u001b[0m\u001b[0;31m:\u001b[0m invalid syntax\n"
     ]
    }
   ],
   "source": [
    "if: #If sem condição \n",
    "    print(10)"
   ]
  },
  {
   "cell_type": "markdown",
   "metadata": {},
   "source": [
    "<img src=\"https://pbs.twimg.com/media/Ec7exH6XYAITBNZ?format=png&name=900x900\" style=\"vertical-align:left\" alt=\"meme\" width=300 height=300>"
   ]
  },
  {
   "cell_type": "code",
   "execution_count": 31,
   "metadata": {},
   "outputs": [
    {
     "ename": "SyntaxError",
     "evalue": "invalid syntax (<ipython-input-31-665af2cce285>, line 3)",
     "output_type": "error",
     "traceback": [
      "\u001b[0;36m  File \u001b[0;32m\"<ipython-input-31-665af2cce285>\"\u001b[0;36m, line \u001b[0;32m3\u001b[0m\n\u001b[0;31m    elif:\u001b[0m\n\u001b[0m        ^\u001b[0m\n\u001b[0;31mSyntaxError\u001b[0m\u001b[0;31m:\u001b[0m invalid syntax\n"
     ]
    }
   ],
   "source": [
    "if(x==10): #Elif sem condição \n",
    "    print(10)\n",
    "elif:\n",
    "    print(20)"
   ]
  },
  {
   "cell_type": "code",
   "execution_count": 32,
   "metadata": {
    "scrolled": true
   },
   "outputs": [
    {
     "ename": "SyntaxError",
     "evalue": "invalid syntax (<ipython-input-32-e775ff422991>, line 5)",
     "output_type": "error",
     "traceback": [
      "\u001b[0;36m  File \u001b[0;32m\"<ipython-input-32-e775ff422991>\"\u001b[0;36m, line \u001b[0;32m5\u001b[0m\n\u001b[0;31m    else:\u001b[0m\n\u001b[0m       ^\u001b[0m\n\u001b[0;31mSyntaxError\u001b[0m\u001b[0;31m:\u001b[0m invalid syntax\n"
     ]
    }
   ],
   "source": [
    "x = 50\n",
    "if(x==100):\n",
    "    print('É 100!')\n",
    "x = 300\n",
    "else:\n",
    "    print('É',x)\n",
    "#Algo entre o \"if\" e o seu respectivo \"else\""
   ]
  },
  {
   "cell_type": "markdown",
   "metadata": {},
   "source": [
    "#### Exemplo 1"
   ]
  },
  {
   "cell_type": "markdown",
   "metadata": {},
   "source": [
    "#### Cálculo do imc"
   ]
  },
  {
   "cell_type": "code",
   "execution_count": 12,
   "metadata": {},
   "outputs": [
    {
     "name": "stdout",
     "output_type": "stream",
     "text": [
      "IMC:31 - Obesidade de Classe 1\n"
     ]
    }
   ],
   "source": [
    "peso = 100 #float(input('Insira seu peso:'))\n",
    "altura = 1.78 #float(input('Insira sua altura:'))\n",
    "imc = peso/altura**2\n",
    "\n",
    "if( imc < 18.5 ):\n",
    "    print('IMC:%d - Baixo peso'%imc)\n",
    "elif(imc < 24.9):\n",
    "    print('IMC:%d - Peso normal'%imc)\n",
    "elif(imc < 29.9):\n",
    "    print('IMC:%d - Excesso de peso'%imc)\n",
    "elif(imc < 34,9):\n",
    "    print('IMC:%d - Obesidade de Classe 1'%imc)\n",
    "elif(imc < 39.9):\n",
    "    print('IMC:%d - Obesidade de Classe 2'%imc)\n",
    "else:\n",
    "    print('IMC:%d - Obesidade de Classe 3'%imc)"
   ]
  },
  {
   "cell_type": "markdown",
   "metadata": {},
   "source": [
    "#### Exemplo 2 "
   ]
  },
  {
   "cell_type": "code",
   "execution_count": 33,
   "metadata": {},
   "outputs": [
    {
     "name": "stdout",
     "output_type": "stream",
     "text": [
      "[ 0  1  2  3  4  5  6  7  8  9 10 11 12 13 14 15 16 17 18 19 20 21 22 23\n",
      " 24 25 26 27 28 29 30 31 32 33 34 35 36 37 38 39 40 41 42 43 44 45 46 47\n",
      " 48 49 50 51 52 53 54 55 56 57 58 59 60 61 62 63 64 65 66 67 68 69 70 71\n",
      " 72 73 74 75 76 77 78 79 80 81 82 83 84 85 86 87 88 89 90 91 92 93 94 95\n",
      " 96 97 98 99]\n"
     ]
    }
   ],
   "source": [
    "numeros = np.arange(100)\n",
    "print(numeros)"
   ]
  },
  {
   "cell_type": "code",
   "execution_count": 34,
   "metadata": {},
   "outputs": [],
   "source": [
    "par = []\n",
    "impar = []\n",
    "for numero in numeros:\n",
    "    if(numero%2==0):\n",
    "        par.append(numero)\n",
    "    else:\n",
    "        impar.append(numero)"
   ]
  },
  {
   "cell_type": "code",
   "execution_count": 35,
   "metadata": {},
   "outputs": [
    {
     "name": "stdout",
     "output_type": "stream",
     "text": [
      "[0, 2, 4, 6, 8, 10, 12, 14, 16, 18, 20, 22, 24, 26, 28, 30, 32, 34, 36, 38, 40, 42, 44, 46, 48, 50, 52, 54, 56, 58, 60, 62, 64, 66, 68, 70, 72, 74, 76, 78, 80, 82, 84, 86, 88, 90, 92, 94, 96, 98]\n"
     ]
    }
   ],
   "source": [
    "print(par)"
   ]
  },
  {
   "cell_type": "code",
   "execution_count": 36,
   "metadata": {},
   "outputs": [
    {
     "name": "stdout",
     "output_type": "stream",
     "text": [
      "[1, 3, 5, 7, 9, 11, 13, 15, 17, 19, 21, 23, 25, 27, 29, 31, 33, 35, 37, 39, 41, 43, 45, 47, 49, 51, 53, 55, 57, 59, 61, 63, 65, 67, 69, 71, 73, 75, 77, 79, 81, 83, 85, 87, 89, 91, 93, 95, 97, 99]\n"
     ]
    }
   ],
   "source": [
    "print(impar)"
   ]
  }
 ],
 "metadata": {
  "kernelspec": {
   "display_name": "Python 3",
   "language": "python",
   "name": "python3"
  },
  "language_info": {
   "codemirror_mode": {
    "name": "ipython",
    "version": 3
   },
   "file_extension": ".py",
   "mimetype": "text/x-python",
   "name": "python",
   "nbconvert_exporter": "python",
   "pygments_lexer": "ipython3",
   "version": "3.7.6"
  }
 },
 "nbformat": 4,
 "nbformat_minor": 4
}
