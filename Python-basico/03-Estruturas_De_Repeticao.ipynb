{
 "cells": [
  {
   "cell_type": "markdown",
   "metadata": {},
   "source": [
    "### Módulo xx\n",
    "\n",
    "## Estruturas de repetição (loops)"
   ]
  },
  {
   "cell_type": "code",
   "execution_count": null,
   "metadata": {},
   "outputs": [],
   "source": [
    "import matplotlib.pyplot as plt"
   ]
  },
  {
   "cell_type": "markdown",
   "metadata": {},
   "source": [
    "Os computadores muitas vezes são usados para automatizar tarefas repetitivas. A repetição de tarefas idênticas ou semelhantes sem fazer erros é algo que os computadores fazem bem e as pessoas não. Em um programa de computador, a repetição também é chamada de iteração.\n",
    "\n",
    "A linguagem de programação Python oferece duas formas básicas de lidar com objetos iteráveis com relação a problemas que envolvam loops. Todas essas formas possuem funcionalidades semelhantes, mas diferem em sintaxe e condição de execução.\n"
   ]
  },
  {
   "cell_type": "markdown",
   "metadata": {},
   "source": [
    "### *While* Loops"
   ]
  },
  {
   "cell_type": "markdown",
   "metadata": {},
   "source": [
    "Em Python, a função **While** é usada para executar um bloco de comandos repetidamente enquanto uma determinada condição é satisfeita. Uma vez que essa condição se torna falsa, o loop deixa de ser executado e a linha imediatamente abaixo no programa é compilada."
   ]
  },
  {
   "cell_type": "code",
   "execution_count": null,
   "metadata": {},
   "outputs": [],
   "source": [
    "aux = 0\n",
    "while aux < 10:\n",
    "    print(aux)\n",
    "    aux = aux +1    "
   ]
  },
  {
   "cell_type": "code",
   "execution_count": null,
   "metadata": {},
   "outputs": [],
   "source": [
    "aux = 10\n",
    "while aux > 0:\n",
    "    print(aux)\n",
    "    aux = aux - 1"
   ]
  },
  {
   "cell_type": "markdown",
   "metadata": {},
   "source": [
    "Nos casos anteriores a variável real **aux** é comumente chamada de variável auxiliar, uma vez que a condição a ser satisfeita pelo loop depende do seu valor. A variável auxiliar pode ser incrementada ou decrementada para satisfazer uma determinada condição. "
   ]
  },
  {
   "cell_type": "markdown",
   "metadata": {},
   "source": [
    "Mais formalmente, aqui está o fluxo de execução para uma instrução **while**:\n",
    "\n",
    "Determine se a condição é verdadeira ou falsa.\n",
    "\n",
    "    1 - Se for falsa, saia da instrução while e continue a execução da próxima instrução.\n",
    "\n",
    "    2 - Se a condição for verdadeira, execute o corpo e então volte ao passo 1.\n",
    "    \n",
    "    3 - Este tipo de fluxo chama-se loop (laço), porque o terceiro passo faz um loop de volta ao topo."
   ]
  },
  {
   "cell_type": "code",
   "execution_count": null,
   "metadata": {},
   "outputs": [],
   "source": [
    "fatorial_15 = 15*14*13*12*10*11*10*9*8*7*6*5*4*3*2*1\n",
    "print(fatorial_15)"
   ]
  },
  {
   "cell_type": "code",
   "execution_count": null,
   "metadata": {},
   "outputs": [],
   "source": [
    "n = int(input('Fatorial de:'))\n",
    "valor = n\n",
    "fatorial = 1\n",
    "\n",
    "while n >= 1:\n",
    "    fatorial = fatorial * n\n",
    "    n = n - 1\n",
    "    \n",
    "print('O fatorial de {} é igual a: {}'.format(valor,fatorial))"
   ]
  },
  {
   "cell_type": "markdown",
   "metadata": {},
   "source": [
    "Outra forma de realizar incrementos/decrementos é através da estrutura **+=** ou **-=**, respectivamente."
   ]
  },
  {
   "cell_type": "code",
   "execution_count": null,
   "metadata": {},
   "outputs": [],
   "source": [
    "c = 3\n",
    "while  c > 0:\n",
    "    print('GETA Machine')\n",
    "    c -= 1"
   ]
  },
  {
   "cell_type": "markdown",
   "metadata": {},
   "source": [
    "### Ferramentas de controle de fluxo"
   ]
  },
  {
   "cell_type": "markdown",
   "metadata": {},
   "source": [
    "Alteram a execução do bloco de comandos da sua sequência normal. Python possui três dessas estruturas, que são:\n",
    "\n",
    "<style type=\"text/css\">\n",
    ".tg  {border-collapse:collapse;border-spacing:0;}\n",
    ".tg td{border-color:black;border-style:solid;border-width:1px;font-family:Arial, sans-serif;font-size:14px;\n",
    "  overflow:hidden;padding:10px 5px;word-break:normal;}\n",
    ".tg th{border-color:black;border-style:solid;border-width:1px;font-family:Arial, sans-serif;font-size:14px;\n",
    "  font-weight:normal;overflow:hidden;padding:10px 5px;word-break:normal;}\n",
    ".tg .tg-syad{background-color:#000000;border-color:inherit;color:#ffffff;text-align:left;vertical-align:top}\n",
    ".tg .tg-9wq8{border-color:inherit;text-align:center;vertical-align:middle}\n",
    ".tg .tg-4f0n{background-color:#000000;border-color:inherit;color:#ffffff;text-align:center;vertical-align:top}\n",
    ".tg .tg-uzvj{border-color:inherit;font-weight:bold;text-align:center;vertical-align:middle}\n",
    "</style>\n",
    "<table class=\"tg\">\n",
    "<thead>\n",
    "  <tr>\n",
    "    <th class=\"tg-syad\">Comando</th>\n",
    "    <th class=\"tg-4f0n\">Função</th>\n",
    "  </tr>\n",
    "</thead>\n",
    "<tbody>\n",
    "  <tr>\n",
    "    <td class=\"tg-9wq8\"><span style=\"font-weight:bold\">continue</span></td>\n",
    "    <td class=\"tg-uzvj\">Retorna a execução para o início do laço</td>\n",
    "  </tr>\n",
    "  <tr>\n",
    "    <td class=\"tg-uzvj\"><span style=\"font-weight:bold\">break</span></td>\n",
    "    <td class=\"tg-uzvj\">Orienta a execução para fora do laço</td>\n",
    "  </tr>\n",
    "  <tr>\n",
    "    <td class=\"tg-uzvj\"><span style=\"font-weight:bold\">pass</span></td>\n",
    "    <td class=\"tg-uzvj\">Utilizado para construir laços sem comandos<br>&nbsp;&nbsp;a serem executados</td>\n",
    "  </tr>\n",
    "</tbody>\n",
    "</table>\n"
   ]
  },
  {
   "cell_type": "markdown",
   "metadata": {},
   "source": [
    "#### Continue"
   ]
  },
  {
   "cell_type": "code",
   "execution_count": null,
   "metadata": {},
   "outputs": [],
   "source": [
    "aux = 0\n",
    "while aux < 10:\n",
    "    if aux % 2 != 0:\n",
    "        aux += 1\n",
    "        continue\n",
    "    else:\n",
    "        print('{} é par!'.format(aux))\n",
    "        aux += 1"
   ]
  },
  {
   "cell_type": "markdown",
   "metadata": {},
   "source": [
    "#### Break"
   ]
  },
  {
   "cell_type": "code",
   "execution_count": null,
   "metadata": {},
   "outputs": [],
   "source": [
    "aux = 0\n",
    "while aux < 20:\n",
    "    if aux > 10:\n",
    "        break\n",
    "    print(aux)\n",
    "    aux += 1  \n",
    "print('\\n Aux passa a ser maior que 10.')    "
   ]
  },
  {
   "cell_type": "markdown",
   "metadata": {},
   "source": [
    "#### Loops infinitos"
   ]
  },
  {
   "cell_type": "markdown",
   "metadata": {},
   "source": [
    "O corpo do laço deve mudar o valor de uma ou mais variáveis para que, a certa altura, a condição se torne falsa e o loop termine. Caso contrário, o loop vai se repetir para sempre, o que é chamado de loop infinito."
   ]
  },
  {
   "cell_type": "code",
   "execution_count": null,
   "metadata": {},
   "outputs": [],
   "source": [
    "while True: \n",
    "    line = input('> ')\n",
    "print('\\n UFA!!')\n",
    "\n",
    "\n",
    "# Clicar em Kernel -> Restart and Clear Output"
   ]
  },
  {
   "cell_type": "code",
   "execution_count": 2,
   "metadata": {},
   "outputs": [
    {
     "name": "stdout",
     "output_type": "stream",
     "text": [
      "> como \n",
      "> irei\n",
      "> terminar\n",
      "> este\n",
      "> loop\n",
      "> infinito\n",
      "> sair\n",
      "\n",
      " UFA!!\n"
     ]
    }
   ],
   "source": [
    "while True: \n",
    "    line = input('> ')\n",
    "    if line == 'sair':\n",
    "        break\n",
    "print('\\n UFA!!')"
   ]
  },
  {
   "cell_type": "markdown",
   "metadata": {},
   "source": [
    "#### Acerte o número - Jogo"
   ]
  },
  {
   "cell_type": "code",
   "execution_count": 5,
   "metadata": {},
   "outputs": [
    {
     "name": "stdout",
     "output_type": "stream",
     "text": [
      "O jogo vai começar!!!\n",
      "\n",
      "Usuário, digite o seu número:5\n",
      "Resposta incorreta. TRY AGAIN!\n",
      "===================================================\n",
      "Usuário, digite o seu número:4\n",
      "Resposta incorreta. TRY AGAIN!\n",
      "===================================================\n",
      "Usuário, digite o seu número:3\n",
      "Resposta incorreta. TRY AGAIN!\n",
      "===================================================\n",
      "Usuário, digite o seu número:2\n",
      "Resposta incorreta. TRY AGAIN!\n",
      "===================================================\n",
      "Usuário, digite o seu número:1\n",
      "Resposta incorreta. TRY AGAIN!\n",
      "===================================================\n",
      "Usuário, digite o seu número:6\n",
      "Resposta incorreta. TRY AGAIN!\n",
      "===================================================\n",
      "Usuário, digite o seu número:7\n",
      "\n",
      " Você venceu!!!\n",
      "Você precisou de 7 tentativa(s) para vencer o jogo.\n"
     ]
    }
   ],
   "source": [
    "import random\n",
    "print('O jogo vai começar!!!\\n')\n",
    "\n",
    "#Contador de tentativas\n",
    "cont = 0\n",
    "\n",
    "# A função random.randint atribui à variável um valor inteiro aleatório dentro dos limites definidos nos parênteses.\n",
    "a = random.randint(0, 10)\n",
    "\n",
    "while True:\n",
    "    b = int(input('Usuário, digite o seu número:'))\n",
    "    if a != b:\n",
    "        print('Resposta incorreta. TRY AGAIN!')\n",
    "        print('===================================================')\n",
    "        cont += 1\n",
    "    else:\n",
    "        break\n",
    "print('\\nVocê venceu!!!')        \n",
    "print('Você precisou de {} tentativa(s) para vencer o jogo.'.format(cont+1))"
   ]
  },
  {
   "cell_type": "markdown",
   "metadata": {},
   "source": [
    "#### Sequência de Fibonacci\n",
    "\n",
    "Na matemática, a Sucessão de Fibonacci (ou Sequência de Fibonacci), é uma sequência de números inteiros, começando normalmente por 0 e/ou 1, na qual, cada termo subsequente corresponde à soma dos dois anteriores."
   ]
  },
  {
   "cell_type": "markdown",
   "metadata": {},
   "source": [
    "#### Exercício\n",
    "\n",
    "Escreva um programa para deteminar o n-ésimo termo da Sequência de Fibonacci."
   ]
  },
  {
   "cell_type": "code",
   "execution_count": null,
   "metadata": {},
   "outputs": [],
   "source": [
    "n_esimo = int(input('N-ésimo termo: '))\n",
    "\n",
    "primeiro_termo = 1\n",
    "segundo_termo = 1\n",
    "\n",
    "\n",
    "penultimo_termo = primeiro_termo\n",
    "ultimo_termo = segundo_termo\n",
    "\n",
    "i = 2\n",
    "\n",
    "while i < n_esimo:\n",
    "    atual = penultimo_termo + ultimo_termo\n",
    "    \n",
    "    penultimo_termo = ultimo_termo\n",
    "    ultimo_termo = atual\n",
    "    \n",
    "    i = i+1\n",
    "    #i += 1\n",
    "    \n",
    "print(atual)"
   ]
  },
  {
   "cell_type": "markdown",
   "metadata": {},
   "source": [
    "### Função *Range* e Laços *For*"
   ]
  },
  {
   "cell_type": "markdown",
   "metadata": {},
   "source": [
    "### *range*\n",
    "\n",
    "Gera uma estrutura de sequência numérica.\n",
    "\n",
    "**Sintaxe:** range( *posição inicial (inclusive)*, *posição final (exclusive)*, *passo*)\n",
    "\n",
    "  - *range*: gerador\n",
    "  - *list*(*range*): lista"
   ]
  },
  {
   "cell_type": "code",
   "execution_count": null,
   "metadata": {},
   "outputs": [],
   "source": [
    "range(10)"
   ]
  },
  {
   "cell_type": "code",
   "execution_count": null,
   "metadata": {},
   "outputs": [],
   "source": [
    "list(range(10))"
   ]
  },
  {
   "cell_type": "code",
   "execution_count": null,
   "metadata": {},
   "outputs": [],
   "source": [
    "list(range(2,10))"
   ]
  },
  {
   "cell_type": "code",
   "execution_count": 6,
   "metadata": {},
   "outputs": [
    {
     "data": {
      "text/plain": [
       "[2, 5, 8]"
      ]
     },
     "execution_count": 6,
     "metadata": {},
     "output_type": "execute_result"
    }
   ],
   "source": [
    "list(range(2,10,3))"
   ]
  },
  {
   "cell_type": "code",
   "execution_count": 7,
   "metadata": {},
   "outputs": [
    {
     "name": "stdout",
     "output_type": "stream",
     "text": [
      "[]\n",
      "[10, 9, 8, 7, 6, 5, 4, 3, 2]\n"
     ]
    }
   ],
   "source": [
    "print(list(range(1, 10,-1)))\n",
    "print(list(range(10, 1,-1)))"
   ]
  },
  {
   "cell_type": "markdown",
   "metadata": {},
   "source": [
    "### *For*"
   ]
  },
  {
   "cell_type": "markdown",
   "metadata": {},
   "source": [
    "Laços ***for*** são utilizados para realizar uma varredura num objeto sequencial. Por exemplo fazer a varredura de uma lista, array ou string. \n",
    "\n",
    "**Sintaxe:** \n",
    "\n",
    "for variavel in sequencia:\n",
    "        \n",
    "        comandos(s)"
   ]
  },
  {
   "cell_type": "code",
   "execution_count": 9,
   "metadata": {},
   "outputs": [
    {
     "name": "stdout",
     "output_type": "stream",
     "text": [
      "0\n",
      "1\n",
      "2\n",
      "3\n",
      "4\n",
      "5\n",
      "6\n",
      "7\n",
      "8\n",
      "9\n"
     ]
    }
   ],
   "source": [
    "for i in range(0,10,1):\n",
    "    print(i)"
   ]
  },
  {
   "cell_type": "code",
   "execution_count": 10,
   "metadata": {},
   "outputs": [
    {
     "name": "stdout",
     "output_type": "stream",
     "text": [
      "0\n",
      "1\n",
      "2\n",
      "3\n"
     ]
    }
   ],
   "source": [
    "for i in range(4):\n",
    "    print(i)"
   ]
  },
  {
   "cell_type": "markdown",
   "metadata": {},
   "source": [
    "#### Iterando sobre uma lista"
   ]
  },
  {
   "cell_type": "code",
   "execution_count": null,
   "metadata": {},
   "outputs": [],
   "source": [
    "print('Python')\n",
    "print('para')\n",
    "print('Geocientistas')"
   ]
  },
  {
   "cell_type": "code",
   "execution_count": null,
   "metadata": {},
   "outputs": [],
   "source": [
    "lista = ['Python','para','Geocientistas']\n",
    "\n",
    "for i in lista:\n",
    "    print(i)"
   ]
  },
  {
   "cell_type": "code",
   "execution_count": null,
   "metadata": {},
   "outputs": [],
   "source": [
    "for index in range(len(lista)):\n",
    "    print(lista[index])"
   ]
  },
  {
   "cell_type": "markdown",
   "metadata": {},
   "source": [
    "#### Iterando sobre uma string"
   ]
  },
  {
   "cell_type": "code",
   "execution_count": null,
   "metadata": {},
   "outputs": [],
   "source": [
    "palavra = 'Geofísica'\n",
    "\n",
    "for i in palavra:\n",
    "    print(i)"
   ]
  },
  {
   "cell_type": "markdown",
   "metadata": {},
   "source": [
    "E voltando à Sequência de Fibonacci ..."
   ]
  },
  {
   "cell_type": "code",
   "execution_count": null,
   "metadata": {},
   "outputs": [],
   "source": [
    "n_esimo = int(input('n-ésimo:'))\n",
    "\n",
    "sequencia = [1,1]\n",
    "\n",
    "for numero in range(n_esimo-2):\n",
    "    sequencia.append(sequencia[-1] + sequencia[-2])\n",
    "    \n",
    "sequencia[n_esimo-1]"
   ]
  },
  {
   "cell_type": "markdown",
   "metadata": {},
   "source": [
    "E se o usuário quiser acumular todos os valores da sequência de Fibonacci numa lista?"
   ]
  },
  {
   "cell_type": "code",
   "execution_count": null,
   "metadata": {},
   "outputs": [],
   "source": [
    "n_esimo = int(input('n-ésimo:'))\n",
    "\n",
    "sequencia = [1,1]\n",
    "\n",
    "for numero in range(n_esimo-2):\n",
    "    sequencia.append(sequencia[-1] + sequencia[-2])\n",
    "    \n",
    "print(sequencia)"
   ]
  },
  {
   "cell_type": "code",
   "execution_count": null,
   "metadata": {},
   "outputs": [],
   "source": [
    "plt.scatter(list(range(n_esimo)), sequencia, edgecolor='black', c='darkblue')\n",
    "plt.xlabel('n-ésimo termo')\n",
    "plt.ylabel('n-ésimo valor')\n",
    "plt.title('Sequência de Fibonacci')"
   ]
  },
  {
   "cell_type": "markdown",
   "metadata": {},
   "source": [
    "#### Estrutura de controle de fluxo **pass**"
   ]
  },
  {
   "cell_type": "code",
   "execution_count": 14,
   "metadata": {},
   "outputs": [
    {
     "name": "stdout",
     "output_type": "stream",
     "text": [
      "0\n",
      "1\n",
      "2\n",
      "3\n",
      "4\n"
     ]
    }
   ],
   "source": [
    "for i in range(10):\n",
    "    if i < 5:\n",
    "        print(i)\n",
    "    else:\n",
    "        pass"
   ]
  },
  {
   "cell_type": "markdown",
   "metadata": {},
   "source": [
    "#### Calculadora"
   ]
  },
  {
   "cell_type": "code",
   "execution_count": 13,
   "metadata": {},
   "outputs": [
    {
     "name": "stdout",
     "output_type": "stream",
     "text": [
      "Digite o primeiro número: 5\n",
      "Digite o segundo número: 8\n",
      "============= CALCULADORA =============\n",
      "\u001b[34m[1] - SOMAR\n",
      "[2] - MULTIPLICAR\n",
      "[3] - SABER O MAIOR\n",
      "[4] - INSERIR NOVOS NÚMEROS\n",
      "[5] - SAIR\u001b[m\n",
      "Escolha uma opção: 5\n",
      "\n",
      "Programa finalizado!\n"
     ]
    }
   ],
   "source": [
    "n1 = float(input('Digite o primeiro número: '))\n",
    "n2 = float(input('Digite o segundo número: '))\n",
    "\n",
    "while True:\n",
    "    print('============= CALCULADORA =============')\n",
    "    print('\\033[34m[1] - SOMAR\\n[2] - MULTIPLICAR\\n[3] - SABER O MAIOR\\n[4] - INSERIR NOVOS NÚMEROS\\n[5] - SAIR\\033[m')\n",
    "    v = int(input('Escolha uma opção: '))\n",
    "    if v == 1:\n",
    "        resultado = n1 + n2\n",
    "        print('{} + {} =  \\033[34m{:.2f}\\033[m.'.format(n1, n2, resultado))\n",
    "    elif v == 2:\n",
    "        resultado = n1 * n2\n",
    "        print('{} x {} =  \\033[34m{:.2f}\\033[m.'.format(n1, n2, resultado))\n",
    "    elif v == 3:\n",
    "        if n1 > n2:\n",
    "            print('\\033[34m{:.2f}\\033[m é maior que \\033[34m{:.2f}\\033[m.'.format(n1, n2))\n",
    "        elif n2 > n1:\n",
    "            print('\\033[34m{:.2f}\\033[m é maior que \\033[34m{:.2f}\\033[m.'.format(n2, n1))\n",
    "        else:\n",
    "            print('O valores são iguais.')\n",
    "    elif v == 4:\n",
    "        n1 = float(input('Digite o primeiro novo número: '))\n",
    "        n2 = float(input('Digite o segundo novo número: '))\n",
    "    else:\n",
    "        print('\\nPrograma finalizado!')\n",
    "        break\n",
    "\n"
   ]
  },
  {
   "cell_type": "code",
   "execution_count": null,
   "metadata": {},
   "outputs": [],
   "source": []
  }
 ],
 "metadata": {
  "kernelspec": {
   "display_name": "Python 3",
   "language": "python",
   "name": "python3"
  },
  "language_info": {
   "codemirror_mode": {
    "name": "ipython",
    "version": 3
   },
   "file_extension": ".py",
   "mimetype": "text/x-python",
   "name": "python",
   "nbconvert_exporter": "python",
   "pygments_lexer": "ipython3",
   "version": "3.7.3"
  }
 },
 "nbformat": 4,
 "nbformat_minor": 2
}
