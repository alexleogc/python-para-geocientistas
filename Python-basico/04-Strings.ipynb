{
 "cells": [
  {
   "cell_type": "markdown",
   "metadata": {},
   "source": [
    "# <center> Strings </center>\n",
    "\n",
    "<b><i> String </b></i> é uma estrutura de dados que armazena caracteres. Abaixo estão descritos os principais métodos vinculados a este objeto.\n",
    "\n",
    "<table>\n",
    "  <tr>\n",
    "    <th>Método</th>\n",
    "      <th><center>Descrição</center></th>\n",
    "  </tr>\n",
    "  <tr>\n",
    "    <td>capitalize()</td>\n",
    "    <td>Converte o primeiro caracter para maiúsculo</td>\n",
    "  </tr>\n",
    "  <tr>\n",
    "    <td>count()</td>\n",
    "    <td>Retorna o número de vezes que um determinado caracter(es) ocorrem em uma string</td>\n",
    "  </tr>\n",
    "  <tr>\n",
    "    <td>endswith()</td>\n",
    "    <td>Retorna True se a string termina com o valor especificado</td>\n",
    "  </tr>\n",
    "  <tr>\n",
    "    <td>find()</td>\n",
    "    <td>Procura a posição no string de um determinado valor e retorna a posição onde ele foi encontrado</td>\n",
    "  </tr>\n",
    "  <tr>\n",
    "    <td>format()</td>\n",
    "    <td>Formata valores especificados em uma string</td>\n",
    "  </tr>\n",
    "  <tr>\n",
    "    <td>index()</td>\n",
    "    <td>Procura a um determinado valor de caracter(es) e retorna a posição onde ele ocorre</td>\n",
    "  </tr>\n",
    "  <tr>\n",
    "    <td>isalnum()</td>\n",
    "    <td>Retorna verdadeiro se todos caracteres na string são alfanuméricos</td>\n",
    "  </tr>\n",
    "  <tr>\n",
    "    <td>isalpha()</td>\n",
    "    <td>Retorna verdadeiro se todos caracteres na string são letras do alfabeto</td>\n",
    "  </tr>\n",
    "  <tr>\n",
    "    <td>islower()</td>\n",
    "    <td>Retorna verdadeiro se todos caracteres na string são letras minúsculas</td>\n",
    "  </tr>\n",
    "  <tr>\n",
    "    <td>isnumeric()</td>\n",
    "    <td>Retorna verdadeiro se todos caracteres na string são numéricos</td>\n",
    "  </tr>\n",
    "  <tr>\n",
    "    <td>isupper()</td>\n",
    "    <td>Retorna verdadeiro se todos caracteres na string são maiúsculos</td>\n",
    "  </tr>\n",
    "  <tr>\n",
    "    <td>join()</td>\n",
    "    <td>Junta elementos de um iterável transformando em uma string</td>\n",
    "  </tr>\n",
    "  <tr>\n",
    "    <td>lower()</td>\n",
    "    <td>Converte os caracteres para minúsculo</td>\n",
    "  </tr>\n",
    "  <tr>\n",
    "    <td>replace()</td>\n",
    "    <td>Permite substituir uma determinada string por um valor especificado e retorna a posição da string modificada</td>\n",
    "  </tr>\n",
    "  <tr>\n",
    "    <td>rfind()</td>\n",
    "    <td>Procura um determinado caracter(es) e retorna a última posição em que ele foi encontrado</td>\n",
    "  </tr>\n",
    "  <tr>\n",
    "    <td>rindex()</td>\n",
    "    <td>Procura a um determinado valor de caracter(es) e retorna a última posição onde ele ocorre</td>\n",
    "  </tr>\n",
    "  <tr>\n",
    "    <td>split()</td>\n",
    "    <td>Divide uma string utilizando um determinado separador e retorna uma lista</td>\n",
    "  </tr>\n",
    "  <tr>\n",
    "    <td>strip()</td>\n",
    "    <td> </td>\n",
    "  </tr>\n",
    "  <tr>\n",
    "    <td>swapcase()</td>\n",
    "    <td>Troca letras maiúsculas por minúsculas e vice versa</td>\n",
    "  </tr>\n",
    "  <tr>\n",
    "    <td>upper()</td>\n",
    "    <td>Converte os caracteres para maiúsculo</td>\n",
    "  </tr>\n",
    "</table>\n",
    "\n",
    "<center> Fonte <a href='https://www.w3schools.com/python/python_ref_string.asp'> Website w3schools </a> </center>\n",
    "\n",
    "A seguir, discutiremos sobre strings e alguns métodos."
   ]
  },
  {
   "cell_type": "markdown",
   "metadata": {},
   "source": [
    "### Criando minha primeira string"
   ]
  },
  {
   "cell_type": "code",
   "execution_count": 1,
   "metadata": {},
   "outputs": [
    {
     "data": {
      "text/plain": [
       "'Minha primeira string'"
      ]
     },
     "execution_count": 1,
     "metadata": {},
     "output_type": "execute_result"
    }
   ],
   "source": [
    "'Minha primeira string'"
   ]
  },
  {
   "cell_type": "code",
   "execution_count": 2,
   "metadata": {},
   "outputs": [],
   "source": [
    "#Passando a string para uma variável\n",
    "s = 'Minha primeira string'"
   ]
  },
  {
   "cell_type": "code",
   "execution_count": 3,
   "metadata": {},
   "outputs": [
    {
     "data": {
      "text/plain": [
       "str"
      ]
     },
     "execution_count": 3,
     "metadata": {},
     "output_type": "execute_result"
    }
   ],
   "source": [
    "#Consultando o tipo da variável\n",
    "type(s)"
   ]
  },
  {
   "cell_type": "markdown",
   "metadata": {},
   "source": [
    "Podemos consultar o tamanho de um iterável, neste caso a string, utilizando a função <i>bult-in</i> len:"
   ]
  },
  {
   "cell_type": "code",
   "execution_count": 4,
   "metadata": {},
   "outputs": [
    {
     "data": {
      "text/plain": [
       "21"
      ]
     },
     "execution_count": 4,
     "metadata": {},
     "output_type": "execute_result"
    }
   ],
   "source": [
    "#Tamanho da string\n",
    "len(s)\n",
    "#Obs: Espaços também são contabilizados"
   ]
  },
  {
   "cell_type": "markdown",
   "metadata": {},
   "source": [
    "### Slice (fatiamento) de uma string\n",
    "\n",
    "Podemos consultar a posição de um determinado caracter, em uma string, através de sua posição. É importar ressaltar que em python, o primeiro índice (<i> index </i>) que referencia um determinado caracter é o valor 0. Ex.:\n",
    "\n",
    "<table>\n",
    "  <tr>\n",
    "    <th>String</th>\n",
    "    <th>B</th>\n",
    "    <th>A</th>\n",
    "    <th>N</th>\n",
    "    <th>A</th>\n",
    "    <th>N</th>\n",
    "    <th>A</th>\n",
    "  </tr>\n",
    "  <tr>\n",
    "    <th>Index</th>\n",
    "    <th>0</th>\n",
    "    <th>1</th>\n",
    "    <th>2</th>\n",
    "    <th>3</th>\n",
    "    <th>4</th>\n",
    "    <th>5</th>\n",
    "  </tr>\n",
    "</table>"
   ]
  },
  {
   "cell_type": "code",
   "execution_count": 5,
   "metadata": {},
   "outputs": [
    {
     "data": {
      "text/plain": [
       "'BANANA'"
      ]
     },
     "execution_count": 5,
     "metadata": {},
     "output_type": "execute_result"
    }
   ],
   "source": [
    "s = 'BANANA'\n",
    "s"
   ]
  },
  {
   "cell_type": "code",
   "execution_count": 6,
   "metadata": {},
   "outputs": [
    {
     "data": {
      "text/plain": [
       "'B'"
      ]
     },
     "execution_count": 6,
     "metadata": {},
     "output_type": "execute_result"
    }
   ],
   "source": [
    "#Consultando o primeiro caracter\n",
    "s[0]"
   ]
  },
  {
   "cell_type": "code",
   "execution_count": 7,
   "metadata": {},
   "outputs": [
    {
     "data": {
      "text/plain": [
       "'A'"
      ]
     },
     "execution_count": 7,
     "metadata": {},
     "output_type": "execute_result"
    }
   ],
   "source": [
    "#Consultando o último caracter\n",
    "s[5]"
   ]
  },
  {
   "cell_type": "code",
   "execution_count": 8,
   "metadata": {},
   "outputs": [
    {
     "data": {
      "text/plain": [
       "'A'"
      ]
     },
     "execution_count": 8,
     "metadata": {},
     "output_type": "execute_result"
    }
   ],
   "source": [
    "#Podemos utilizar a função len para obter o valor do último index\n",
    "s[len(s)-1]\n",
    "#Obs: len retorna o número de caracteres"
   ]
  },
  {
   "cell_type": "code",
   "execution_count": 9,
   "metadata": {},
   "outputs": [
    {
     "data": {
      "text/plain": [
       "'A'"
      ]
     },
     "execution_count": 9,
     "metadata": {},
     "output_type": "execute_result"
    }
   ],
   "source": [
    "#Podemos utilizar, também, o index reverso\n",
    "s[-1]"
   ]
  },
  {
   "cell_type": "markdown",
   "metadata": {},
   "source": [
    "Um segmento de um iterável é chamado de <b> fatia (<i>Slice</i>) </b>. Podemos definir as operações do slice para uma dada string s como:\n",
    "\n",
    "<center> s[index$_{inicial}$:index$_{final}$:passo]. </center>\n",
    "\n",
    "Vamos criar uma string com mais caracteres para melhor entender o slicing."
   ]
  },
  {
   "cell_type": "code",
   "execution_count": 10,
   "metadata": {},
   "outputs": [
    {
     "data": {
      "text/plain": [
       "'Essa é uma turma de geofísicos e geólogos'"
      ]
     },
     "execution_count": 10,
     "metadata": {},
     "output_type": "execute_result"
    }
   ],
   "source": [
    "#Criando uma nova string\n",
    "s = \"Essa é uma turma de geofísicos e geólogos\"\n",
    "s"
   ]
  },
  {
   "cell_type": "code",
   "execution_count": 11,
   "metadata": {},
   "outputs": [
    {
     "data": {
      "text/plain": [
       "'Essa'"
      ]
     },
     "execution_count": 11,
     "metadata": {},
     "output_type": "execute_result"
    }
   ],
   "source": [
    "#Coletando as quatro primeiras strings\n",
    "s[0:4]"
   ]
  },
  {
   "cell_type": "code",
   "execution_count": 12,
   "metadata": {},
   "outputs": [
    {
     "data": {
      "text/plain": [
       "'turma'"
      ]
     },
     "execution_count": 12,
     "metadata": {},
     "output_type": "execute_result"
    }
   ],
   "source": [
    "#Slice da posição 11 até 15\n",
    "s[11:16]"
   ]
  },
  {
   "cell_type": "code",
   "execution_count": 13,
   "metadata": {},
   "outputs": [
    {
     "data": {
      "text/plain": [
       "'Essa é uma'"
      ]
     },
     "execution_count": 13,
     "metadata": {},
     "output_type": "execute_result"
    }
   ],
   "source": [
    "#Se o primeiro index no slice for 0\n",
    "s[:10]"
   ]
  },
  {
   "cell_type": "code",
   "execution_count": 14,
   "metadata": {},
   "outputs": [
    {
     "data": {
      "text/plain": [
       "'turma de geofísicos e geólogos'"
      ]
     },
     "execution_count": 14,
     "metadata": {},
     "output_type": "execute_result"
    }
   ],
   "source": [
    "#Se quisermos apenas definir o primeiro index e ir até o final da frase\n",
    "s[11:]"
   ]
  },
  {
   "cell_type": "code",
   "execution_count": 15,
   "metadata": {},
   "outputs": [
    {
     "data": {
      "text/plain": [
       "'Es  m um e'"
      ]
     },
     "execution_count": 15,
     "metadata": {},
     "output_type": "execute_result"
    }
   ],
   "source": [
    "#Podemos fazer um slice e coletar os caracteres com um determinado espaço\n",
    "s[0:19:2]"
   ]
  },
  {
   "cell_type": "code",
   "execution_count": 16,
   "metadata": {},
   "outputs": [
    {
     "data": {
      "text/plain": [
       "'Es  m um egoíio  elgs'"
      ]
     },
     "execution_count": 16,
     "metadata": {},
     "output_type": "execute_result"
    }
   ],
   "source": [
    "s[::2]"
   ]
  },
  {
   "cell_type": "code",
   "execution_count": 17,
   "metadata": {},
   "outputs": [
    {
     "data": {
      "text/plain": [
       "'sogolóeg e socisífoeg ed amrut amu é assE'"
      ]
     },
     "execution_count": 17,
     "metadata": {},
     "output_type": "execute_result"
    }
   ],
   "source": [
    "#Ou podemos simplesmente definir um passo contrário\n",
    "s[::-1]"
   ]
  },
  {
   "cell_type": "markdown",
   "metadata": {},
   "source": [
    "<b><i> Escape codes </b></i>\n",
    "\n",
    "Para inserir caracteres que são \"ilegais\" em string, nós usamos um caracter <i> escape </i>. Um caracter <i>escape</i> é usado com o <i>backslash</i> \"\\\" seguido pelo caracter especial que se deseja inserir.\n",
    "\n",
    "Examplos:\n",
    "\n",
    "<table>\n",
    "  <tr>\n",
    "      <th><i>Escape code</i></th>\n",
    "    <th>Descrição</th>\n",
    "  </tr>\n",
    "  <tr>\n",
    "    <td>\\</td>\n",
    "    <td>Ao colocar o backslach e dar enter, é possível continuar digitando a string</td>\n",
    "  </tr>\n",
    "  <tr>\n",
    "    <td>\\'</td>\n",
    "    <td>Permite inserir single quote</td>\n",
    "  </tr>\n",
    "  <tr>\n",
    "    <td>\\\"</td>\n",
    "    <td>Permite inserir double quote</td>\n",
    "  </tr>\n",
    "  <tr>\n",
    "    <td>\\n</td>\n",
    "    <td>Pula para próxima linha</td>\n",
    "  </tr>\n",
    "  <tr>\n",
    "    <td>\\t</td>\n",
    "    <td>Substitui o Tab</td>\n",
    "  </tr>\n",
    "  <tr>\n",
    "    <td>\\b</td>\n",
    "    <td>Backspace</td>\n",
    "  </tr>\n",
    "  <tr>\n",
    "    <td>\\v</td>\n",
    "    <td>Tab vertical</td>\n",
    "  </tr>\n",
    "</table>"
   ]
  },
  {
   "cell_type": "code",
   "execution_count": 18,
   "metadata": {},
   "outputs": [
    {
     "name": "stdout",
     "output_type": "stream",
     "text": [
      "Título Aqui começa o texto de demonstração\n"
     ]
    }
   ],
   "source": [
    "print(\"Título Aqui começa o texto de demonstração\")"
   ]
  },
  {
   "cell_type": "code",
   "execution_count": 19,
   "metadata": {},
   "outputs": [
    {
     "name": "stdout",
     "output_type": "stream",
     "text": [
      "Título \n",
      " Aqui começa o texto de demonstração\n"
     ]
    }
   ],
   "source": [
    "print(\"Título \\n Aqui começa o texto de demonstração\")"
   ]
  },
  {
   "cell_type": "code",
   "execution_count": 20,
   "metadata": {},
   "outputs": [
    {
     "name": "stdout",
     "output_type": "stream",
     "text": [
      "\t Título \n",
      " Aqui começa o texto de demonstração\n"
     ]
    }
   ],
   "source": [
    "print(\"\\t Título \\n Aqui começa o texto de demonstração\")"
   ]
  },
  {
   "cell_type": "code",
   "execution_count": 21,
   "metadata": {},
   "outputs": [
    {
     "name": "stdout",
     "output_type": "stream",
     "text": [
      "\t\tTítulo \n",
      " Aqui começa o texto de demonstração\n"
     ]
    }
   ],
   "source": [
    "print(2*'\\t'+\"Título \\n Aqui começa o texto de demonstração\")"
   ]
  },
  {
   "cell_type": "code",
   "execution_count": 22,
   "metadata": {},
   "outputs": [
    {
     "name": "stdout",
     "output_type": "stream",
     "text": [
      "\t\tTítulo \n",
      " Aqui começa o texto de demonstração \n",
      " e aqui eu continuo escrevendo o texto\n"
     ]
    }
   ],
   "source": [
    "print(2*'\\t'+\"Título \\n Aqui começa o texto de demonstração \\\n",
    "\\n e aqui eu continuo escrevendo o texto\")"
   ]
  },
  {
   "cell_type": "code",
   "execution_count": 23,
   "metadata": {},
   "outputs": [
    {
     "name": "stdout",
     "output_type": "stream",
     "text": [
      "\t\tTítulo \n",
      " Aqui começa o texto de demonstração \u000b",
      " \n",
      " e aqui eu continuo escrevendo o texto\n"
     ]
    }
   ],
   "source": [
    "print(2*'\\t'+\"Título \\n Aqui começa o texto de demonstração \\v \\\n",
    "\\n e aqui eu continuo escrevendo o texto\")"
   ]
  },
  {
   "cell_type": "code",
   "execution_count": 24,
   "metadata": {},
   "outputs": [
    {
     "name": "stdout",
     "output_type": "stream",
     "text": [
      "\t\tTítulo \n",
      " Aqui começa o texto de \bdemonstração \n",
      " e aqui eu continuo escrevendo o texto\n"
     ]
    }
   ],
   "source": [
    "print(2*'\\t'+\"Título \\n Aqui começa o texto de \\bdemonstração \\\n",
    "\\n e aqui eu continuo escrevendo o texto\")"
   ]
  },
  {
   "cell_type": "markdown",
   "metadata": {},
   "source": [
    "#### A seguir iremos utilizar alguns métodos demonstrados na tabela"
   ]
  },
  {
   "cell_type": "code",
   "execution_count": 25,
   "metadata": {},
   "outputs": [
    {
     "data": {
      "text/plain": [
       "'Essa é uma turma de geofísicos e geólogos'"
      ]
     },
     "execution_count": 25,
     "metadata": {},
     "output_type": "execute_result"
    }
   ],
   "source": [
    "s"
   ]
  },
  {
   "cell_type": "markdown",
   "metadata": {},
   "source": [
    "<i> lower() </i> - converte todos os caracteres para minúsculo"
   ]
  },
  {
   "cell_type": "code",
   "execution_count": 26,
   "metadata": {},
   "outputs": [
    {
     "data": {
      "text/plain": [
       "'essa é uma turma de geofísicos e geólogos'"
      ]
     },
     "execution_count": 26,
     "metadata": {},
     "output_type": "execute_result"
    }
   ],
   "source": [
    "s.lower()"
   ]
  },
  {
   "cell_type": "markdown",
   "metadata": {},
   "source": [
    "<i>upper()</i> - converte todos os caracteres para maiúsculo\n"
   ]
  },
  {
   "cell_type": "code",
   "execution_count": 27,
   "metadata": {},
   "outputs": [
    {
     "data": {
      "text/plain": [
       "'ESSA É UMA TURMA DE GEOFÍSICOS E GEÓLOGOS'"
      ]
     },
     "execution_count": 27,
     "metadata": {},
     "output_type": "execute_result"
    }
   ],
   "source": [
    "s.upper()"
   ]
  },
  {
   "cell_type": "markdown",
   "metadata": {},
   "source": [
    "<i>count()</i> - conta o número de vezes que um caractere aparece"
   ]
  },
  {
   "cell_type": "code",
   "execution_count": 28,
   "metadata": {},
   "outputs": [
    {
     "data": {
      "text/plain": [
       "3"
      ]
     },
     "execution_count": 28,
     "metadata": {},
     "output_type": "execute_result"
    }
   ],
   "source": [
    "s.count('a')"
   ]
  },
  {
   "cell_type": "code",
   "execution_count": 29,
   "metadata": {},
   "outputs": [
    {
     "data": {
      "text/plain": [
       "1"
      ]
     },
     "execution_count": 29,
     "metadata": {},
     "output_type": "execute_result"
    }
   ],
   "source": [
    "#O count leva em consideração se a variável é maiúscula ou não\n",
    "s.count('E')"
   ]
  },
  {
   "cell_type": "markdown",
   "metadata": {},
   "source": [
    "<i>find()</i> - retorna a primeira posição de um determinado valor na string"
   ]
  },
  {
   "cell_type": "code",
   "execution_count": 30,
   "metadata": {},
   "outputs": [
    {
     "data": {
      "text/plain": [
       "3"
      ]
     },
     "execution_count": 30,
     "metadata": {},
     "output_type": "execute_result"
    }
   ],
   "source": [
    "s.find('a')"
   ]
  },
  {
   "cell_type": "code",
   "execution_count": 31,
   "metadata": {},
   "outputs": [
    {
     "data": {
      "text/plain": [
       "9"
      ]
     },
     "execution_count": 31,
     "metadata": {},
     "output_type": "execute_result"
    }
   ],
   "source": [
    "#Você pode definir a partir de qual index buscar\n",
    "s.find('a',5)"
   ]
  },
  {
   "cell_type": "markdown",
   "metadata": {},
   "source": [
    "<i>rfind()</i> - retorna a ultima posição de um determinado valor na string"
   ]
  },
  {
   "cell_type": "code",
   "execution_count": 32,
   "metadata": {},
   "outputs": [
    {
     "data": {
      "text/plain": [
       "33"
      ]
     },
     "execution_count": 32,
     "metadata": {},
     "output_type": "execute_result"
    }
   ],
   "source": [
    "s.rfind('ge')"
   ]
  },
  {
   "cell_type": "code",
   "execution_count": 33,
   "metadata": {},
   "outputs": [
    {
     "data": {
      "text/plain": [
       "'geólogos'"
      ]
     },
     "execution_count": 33,
     "metadata": {},
     "output_type": "execute_result"
    }
   ],
   "source": [
    "#Podemos passar o método invocado dentro da estrutura do slice\n",
    "s[s.rfind('ge'):]"
   ]
  },
  {
   "cell_type": "markdown",
   "metadata": {},
   "source": [
    "<i>replace()</i> - substitui um determinado caracter ou conjunto de caracteres"
   ]
  },
  {
   "cell_type": "code",
   "execution_count": 34,
   "metadata": {},
   "outputs": [
    {
     "data": {
      "text/plain": [
       "'Essa é um grupo de geofísicos e geólogos'"
      ]
     },
     "execution_count": 34,
     "metadata": {},
     "output_type": "execute_result"
    }
   ],
   "source": [
    "s.replace('uma turma','um grupo') # Não é um método inplace"
   ]
  },
  {
   "cell_type": "code",
   "execution_count": 35,
   "metadata": {},
   "outputs": [
    {
     "data": {
      "text/plain": [
       "'Esse é um grupo de geofísicos e geólogos'"
      ]
     },
     "execution_count": 35,
     "metadata": {},
     "output_type": "execute_result"
    }
   ],
   "source": [
    "#Se quisermos atualizar a variável\n",
    "s = s.replace('Essa é uma turma','Esse é um grupo')\n",
    "s"
   ]
  },
  {
   "cell_type": "markdown",
   "metadata": {},
   "source": [
    "<i>swapcase</i> - Troca letras minúsculas por maiúsculas e vice versa"
   ]
  },
  {
   "cell_type": "code",
   "execution_count": 36,
   "metadata": {},
   "outputs": [
    {
     "data": {
      "text/plain": [
       "'eSSE É UM GRUPO DE GEOFÍSICOS E GEÓLOGOS'"
      ]
     },
     "execution_count": 36,
     "metadata": {},
     "output_type": "execute_result"
    }
   ],
   "source": [
    "s.swapcase()"
   ]
  },
  {
   "cell_type": "code",
   "execution_count": 37,
   "metadata": {},
   "outputs": [
    {
     "data": {
      "text/plain": [
       "'E-s-s-e- -é- -u-m- -g-r-u-p-o- -d-e- -g-e-o-f-í-s-i-c-o-s- -e- -g-e-ó-l-o-g-o-s'"
      ]
     },
     "execution_count": 37,
     "metadata": {},
     "output_type": "execute_result"
    }
   ],
   "source": [
    "'-'.join(s)"
   ]
  },
  {
   "cell_type": "code",
   "execution_count": 38,
   "metadata": {},
   "outputs": [
    {
     "data": {
      "text/plain": [
       "'Esse é um grupo de geofísicos e geólogos'"
      ]
     },
     "execution_count": 38,
     "metadata": {},
     "output_type": "execute_result"
    }
   ],
   "source": [
    "s"
   ]
  }
 ],
 "metadata": {
  "kernelspec": {
   "display_name": "Python 3",
   "language": "python",
   "name": "python3"
  },
  "language_info": {
   "codemirror_mode": {
    "name": "ipython",
    "version": 3
   },
   "file_extension": ".py",
   "mimetype": "text/x-python",
   "name": "python",
   "nbconvert_exporter": "python",
   "pygments_lexer": "ipython3",
   "version": "3.7.6"
  }
 },
 "nbformat": 4,
 "nbformat_minor": 4
}
