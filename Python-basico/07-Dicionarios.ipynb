{
 "cells": [
  {
   "cell_type": "markdown",
   "metadata": {},
   "source": [
    "## Dicionários"
   ]
  },
  {
   "cell_type": "markdown",
   "metadata": {},
   "source": [
    "Imagine que precisamos relacionar uma informação a outra, vimos anteriormente que podemos utilizar as tuplas para isso:\n",
    "```python\n",
    "aluno = ('Nome','Jonh')\n",
    "```\n",
    "Agora, queremos relacionar uma série de informações, para resolver esse problema, podemos usar uma lista de tuplas:\n",
    "```python\n",
    "aluno = [('Nome','Jonh'),('Idade',20)]\n",
    "```\n",
    "Para acessar as informações da nossa lista de tuplas, podemos utilizar a estrutura:\n",
    "```python\n",
    "print(f'Nome: {aluno[0][1]}')\n",
    "Nome: Jonh\n",
    "```\n",
    "Contudo, existe uma estrutura que podemos relacionar e acessar informações de maneira simples.  \n",
    "O <b>dicionário</b> funciona como uma <b>estrutura de mapeamento</b>, ligando uma <b>chave</b> a um determinado <b>valor</b>. \n",
    "```python\n",
    "dicionario = {chave:valor}\n",
    "```\n",
    "Assim como as listas, o dicionário é um objeto <b>mutável</b> que aceita qualquer tipo de objeto como valor."
   ]
  },
  {
   "cell_type": "markdown",
   "metadata": {},
   "source": [
    "<table>\n",
    "    <tr>\n",
    "        <th><b>Método</b></th>\n",
    "        <th></th>\n",
    "    </tr>\n",
    "    <tr>\n",
    "        <td>get()</td>\n",
    "        <td>Retorna o valor associado a chave passada</td>\n",
    "    </tr>\n",
    "    <tr>\n",
    "        <td>update()</td>\n",
    "        <td>Atualiza ou adiciona novos itens ao dicionário</td>\n",
    "    </tr>\n",
    "    <tr>\n",
    "        <td>keys()</td>\n",
    "        <td>Retorna as chaves do dicionário</td>\n",
    "    </tr>\n",
    "    <tr>\n",
    "        <td>items()</td>\n",
    "        <td>Retorna os pares (chave,valor) do dicionário</td>\n",
    "    </tr>\n",
    "    <tr>\n",
    "        <td>values()</td>\n",
    "        <td>Retorna os valores do dicionário</td>\n",
    "    </tr>\n",
    "    <tr>\n",
    "        <td>pop()</td>\n",
    "        <td>Remove uma chave e retorna o seu valor</td>\n",
    "    </tr>\n",
    "    <tr>\n",
    "        <td>clear()</td>\n",
    "        <td>Remove todos os itens de um dicionário</td>\n",
    "    </tr>\n",
    "    <tr>\n",
    "        <td>copy()</td>\n",
    "        <td>Devolve uma cópia rasa do dicionário</td>\n",
    "    </tr>\n",
    "</table>"
   ]
  },
  {
   "cell_type": "markdown",
   "metadata": {},
   "source": [
    "### Criar um dicionário"
   ]
  },
  {
   "cell_type": "code",
   "execution_count": 1,
   "metadata": {},
   "outputs": [
    {
     "data": {
      "text/plain": [
       "{}"
      ]
     },
     "execution_count": 1,
     "metadata": {},
     "output_type": "execute_result"
    }
   ],
   "source": [
    "aluno = {} #Dicionário vazio\n",
    "aluno"
   ]
  },
  {
   "cell_type": "code",
   "execution_count": 2,
   "metadata": {},
   "outputs": [
    {
     "data": {
      "text/plain": [
       "{'Nome': 'Jonh', 'Idade': 20, 'Email': 'jonhbrian@hotmail.com'}"
      ]
     },
     "execution_count": 2,
     "metadata": {},
     "output_type": "execute_result"
    }
   ],
   "source": [
    "aluno = {'Nome':'Jonh','Idade':20,'Email':'jonhbrian@hotmail.com'}\n",
    "aluno"
   ]
  },
  {
   "cell_type": "code",
   "execution_count": 3,
   "metadata": {},
   "outputs": [
    {
     "data": {
      "text/plain": [
       "3"
      ]
     },
     "execution_count": 3,
     "metadata": {},
     "output_type": "execute_result"
    }
   ],
   "source": [
    "len(aluno) #Tamanho do dicionário"
   ]
  },
  {
   "cell_type": "markdown",
   "metadata": {},
   "source": [
    "### Acessar valores"
   ]
  },
  {
   "cell_type": "code",
   "execution_count": 4,
   "metadata": {},
   "outputs": [
    {
     "ename": "KeyError",
     "evalue": "0",
     "output_type": "error",
     "traceback": [
      "\u001b[0;31m---------------------------------------------------------------------------\u001b[0m",
      "\u001b[0;31mKeyError\u001b[0m                                  Traceback (most recent call last)",
      "\u001b[0;32m<ipython-input-4-987dbc155fdb>\u001b[0m in \u001b[0;36m<module>\u001b[0;34m\u001b[0m\n\u001b[0;32m----> 1\u001b[0;31m \u001b[0maluno\u001b[0m\u001b[0;34m[\u001b[0m\u001b[0;36m0\u001b[0m\u001b[0;34m]\u001b[0m\u001b[0;34m\u001b[0m\u001b[0;34m\u001b[0m\u001b[0m\n\u001b[0m",
      "\u001b[0;31mKeyError\u001b[0m: 0"
     ]
    }
   ],
   "source": [
    "aluno[0]"
   ]
  },
  {
   "cell_type": "markdown",
   "metadata": {},
   "source": [
    "Diferente da lista, o dicionário não é acessado utilizando necessariamente indexes numéricos, utilizamos a <b>chave</b> para acessar o seu <b>valor</b>."
   ]
  },
  {
   "cell_type": "code",
   "execution_count": 5,
   "metadata": {},
   "outputs": [
    {
     "data": {
      "text/plain": [
       "'Jonh'"
      ]
     },
     "execution_count": 5,
     "metadata": {},
     "output_type": "execute_result"
    }
   ],
   "source": [
    "aluno['Nome']"
   ]
  },
  {
   "cell_type": "code",
   "execution_count": 6,
   "metadata": {},
   "outputs": [
    {
     "data": {
      "text/plain": [
       "20"
      ]
     },
     "execution_count": 6,
     "metadata": {},
     "output_type": "execute_result"
    }
   ],
   "source": [
    "aluno.get('Idade')"
   ]
  },
  {
   "cell_type": "code",
   "execution_count": 7,
   "metadata": {},
   "outputs": [
    {
     "data": {
      "text/plain": [
       "'jonhbrian@hotmail.com'"
      ]
     },
     "execution_count": 7,
     "metadata": {},
     "output_type": "execute_result"
    }
   ],
   "source": [
    "aluno['Email']"
   ]
  },
  {
   "cell_type": "code",
   "execution_count": 8,
   "metadata": {
    "scrolled": true
   },
   "outputs": [
    {
     "ename": "TypeError",
     "evalue": "'dict' object is not callable",
     "output_type": "error",
     "traceback": [
      "\u001b[0;31m---------------------------------------------------------------------------\u001b[0m",
      "\u001b[0;31mTypeError\u001b[0m                                 Traceback (most recent call last)",
      "\u001b[0;32m<ipython-input-8-deffb1aac42b>\u001b[0m in \u001b[0;36m<module>\u001b[0;34m\u001b[0m\n\u001b[0;32m----> 1\u001b[0;31m \u001b[0maluno\u001b[0m\u001b[0;34m(\u001b[0m\u001b[0;34m'Telefone'\u001b[0m\u001b[0;34m)\u001b[0m\u001b[0;34m\u001b[0m\u001b[0;34m\u001b[0m\u001b[0m\n\u001b[0m",
      "\u001b[0;31mTypeError\u001b[0m: 'dict' object is not callable"
     ]
    }
   ],
   "source": [
    "aluno('Telefone')"
   ]
  },
  {
   "cell_type": "code",
   "execution_count": 9,
   "metadata": {},
   "outputs": [
    {
     "name": "stdout",
     "output_type": "stream",
     "text": [
      "None\n"
     ]
    }
   ],
   "source": [
    "print(aluno.get('Telefone'))"
   ]
  },
  {
   "cell_type": "markdown",
   "metadata": {},
   "source": [
    "Acessar informações utilizando o <b>.get()</b> evita erros, uma vez que caso a informação não exista, ele retorna \"None\""
   ]
  },
  {
   "cell_type": "markdown",
   "metadata": {},
   "source": [
    "### Podemos criar um dicionário a partir de uma lista de tuplas"
   ]
  },
  {
   "cell_type": "code",
   "execution_count": 10,
   "metadata": {},
   "outputs": [
    {
     "data": {
      "text/plain": [
       "{'Nome': 'Jonh', 'Idade': 20, 'Email': 'jonhbrian@hotmail.com'}"
      ]
     },
     "execution_count": 10,
     "metadata": {},
     "output_type": "execute_result"
    }
   ],
   "source": [
    "aluno = dict( [('Nome','Jonh'), ('Idade',20) ,('Email','jonhbrian@hotmail.com')] )\n",
    "aluno"
   ]
  },
  {
   "cell_type": "markdown",
   "metadata": {},
   "source": [
    "#### Outra forma de criar um dicionário"
   ]
  },
  {
   "cell_type": "code",
   "execution_count": 11,
   "metadata": {},
   "outputs": [
    {
     "data": {
      "text/plain": [
       "{'nome': 'Jonh', 'idade': 20}"
      ]
     },
     "execution_count": 11,
     "metadata": {},
     "output_type": "execute_result"
    }
   ],
   "source": [
    "aluno2 = dict(nome='Jonh',idade=20)\n",
    "aluno2"
   ]
  },
  {
   "cell_type": "markdown",
   "metadata": {},
   "source": [
    "### Adicionar novos itens"
   ]
  },
  {
   "cell_type": "code",
   "execution_count": 12,
   "metadata": {},
   "outputs": [],
   "source": [
    "aluno['Telefone'] = '98753-6536'"
   ]
  },
  {
   "cell_type": "code",
   "execution_count": 13,
   "metadata": {},
   "outputs": [
    {
     "data": {
      "text/plain": [
       "{'Nome': 'Jonh',\n",
       " 'Idade': 20,\n",
       " 'Email': 'jonhbrian@hotmail.com',\n",
       " 'Telefone': '98753-6536'}"
      ]
     },
     "execution_count": 13,
     "metadata": {},
     "output_type": "execute_result"
    }
   ],
   "source": [
    "aluno"
   ]
  },
  {
   "cell_type": "markdown",
   "metadata": {},
   "source": [
    "### Métodos "
   ]
  },
  {
   "cell_type": "code",
   "execution_count": 14,
   "metadata": {},
   "outputs": [
    {
     "data": {
      "text/plain": [
       "dict_keys(['Nome', 'Idade', 'Email', 'Telefone'])"
      ]
     },
     "execution_count": 14,
     "metadata": {},
     "output_type": "execute_result"
    }
   ],
   "source": [
    "aluno.keys() # Obter as chaves do dicionário"
   ]
  },
  {
   "cell_type": "code",
   "execution_count": 15,
   "metadata": {},
   "outputs": [
    {
     "data": {
      "text/plain": [
       "dict_values(['Jonh', 20, 'jonhbrian@hotmail.com', '98753-6536'])"
      ]
     },
     "execution_count": 15,
     "metadata": {},
     "output_type": "execute_result"
    }
   ],
   "source": [
    "aluno.values()"
   ]
  },
  {
   "cell_type": "code",
   "execution_count": 16,
   "metadata": {},
   "outputs": [
    {
     "data": {
      "text/plain": [
       "dict_items([('Nome', 'Jonh'), ('Idade', 20), ('Email', 'jonhbrian@hotmail.com'), ('Telefone', '98753-6536')])"
      ]
     },
     "execution_count": 16,
     "metadata": {},
     "output_type": "execute_result"
    }
   ],
   "source": [
    "aluno.items() "
   ]
  },
  {
   "cell_type": "markdown",
   "metadata": {},
   "source": [
    "#### Loop em dicionários"
   ]
  },
  {
   "cell_type": "markdown",
   "metadata": {},
   "source": [
    "```python\n",
    "for item in aluno.keys():                 <=>                 for item in aluno:\n",
    "    print(item)                                                   print(item)\n",
    "```"
   ]
  },
  {
   "cell_type": "code",
   "execution_count": 17,
   "metadata": {},
   "outputs": [
    {
     "name": "stdout",
     "output_type": "stream",
     "text": [
      "Jonh\n",
      "20\n",
      "jonhbrian@hotmail.com\n",
      "98753-6536\n"
     ]
    }
   ],
   "source": [
    "for item in aluno.values():\n",
    "    print(item)"
   ]
  },
  {
   "cell_type": "code",
   "execution_count": 18,
   "metadata": {},
   "outputs": [
    {
     "name": "stdout",
     "output_type": "stream",
     "text": [
      "Aluno:\n",
      "Nome : Jonh\n",
      "Idade : 20\n",
      "Email : jonhbrian@hotmail.com\n",
      "Telefone : 98753-6536\n"
     ]
    }
   ],
   "source": [
    "print('Aluno:')\n",
    "for key,value in aluno.items():\n",
    "    print(f'{key} : {value}')"
   ]
  },
  {
   "cell_type": "markdown",
   "metadata": {},
   "source": [
    "### Modificar valores"
   ]
  },
  {
   "cell_type": "code",
   "execution_count": 19,
   "metadata": {},
   "outputs": [
    {
     "data": {
      "text/plain": [
       "{'Nome': 'Jonh',\n",
       " 'Idade': 20,\n",
       " 'Email': 'jonhbrian@hotmail.com',\n",
       " 'Telefone': '98753-6536'}"
      ]
     },
     "execution_count": 19,
     "metadata": {},
     "output_type": "execute_result"
    }
   ],
   "source": [
    "aluno"
   ]
  },
  {
   "cell_type": "code",
   "execution_count": 20,
   "metadata": {},
   "outputs": [],
   "source": [
    "aluno['Idade'] = 21"
   ]
  },
  {
   "cell_type": "code",
   "execution_count": 21,
   "metadata": {},
   "outputs": [
    {
     "data": {
      "text/plain": [
       "{'Nome': 'Jonh',\n",
       " 'Idade': 21,\n",
       " 'Email': 'jonhbrian@hotmail.com',\n",
       " 'Telefone': '98753-6536'}"
      ]
     },
     "execution_count": 21,
     "metadata": {},
     "output_type": "execute_result"
    }
   ],
   "source": [
    "aluno"
   ]
  },
  {
   "cell_type": "code",
   "execution_count": 22,
   "metadata": {},
   "outputs": [],
   "source": [
    "aluno.update({'Email':'jonhgfx@gmail.com','Idade':20})"
   ]
  },
  {
   "cell_type": "code",
   "execution_count": 23,
   "metadata": {},
   "outputs": [
    {
     "data": {
      "text/plain": [
       "{'Nome': 'Jonh',\n",
       " 'Idade': 20,\n",
       " 'Email': 'jonhgfx@gmail.com',\n",
       " 'Telefone': '98753-6536'}"
      ]
     },
     "execution_count": 23,
     "metadata": {},
     "output_type": "execute_result"
    }
   ],
   "source": [
    "aluno"
   ]
  },
  {
   "cell_type": "markdown",
   "metadata": {},
   "source": [
    "### Remover valores"
   ]
  },
  {
   "cell_type": "code",
   "execution_count": 24,
   "metadata": {},
   "outputs": [],
   "source": [
    "del aluno['Telefone'] # Remove o elemento do dicionário"
   ]
  },
  {
   "cell_type": "code",
   "execution_count": 25,
   "metadata": {},
   "outputs": [
    {
     "data": {
      "text/plain": [
       "{'Nome': 'Jonh', 'Idade': 20, 'Email': 'jonhgfx@gmail.com'}"
      ]
     },
     "execution_count": 25,
     "metadata": {},
     "output_type": "execute_result"
    }
   ],
   "source": [
    "aluno"
   ]
  },
  {
   "cell_type": "code",
   "execution_count": 26,
   "metadata": {},
   "outputs": [
    {
     "data": {
      "text/plain": [
       "'jonhgfx@gmail.com'"
      ]
     },
     "execution_count": 26,
     "metadata": {},
     "output_type": "execute_result"
    }
   ],
   "source": [
    "aluno.pop('Email') # pop retorna o valor removido"
   ]
  },
  {
   "cell_type": "code",
   "execution_count": 27,
   "metadata": {},
   "outputs": [
    {
     "data": {
      "text/plain": [
       "{'Nome': 'Jonh', 'Idade': 20}"
      ]
     },
     "execution_count": 27,
     "metadata": {},
     "output_type": "execute_result"
    }
   ],
   "source": [
    "aluno"
   ]
  },
  {
   "cell_type": "code",
   "execution_count": 28,
   "metadata": {},
   "outputs": [
    {
     "data": {
      "text/plain": [
       "{}"
      ]
     },
     "execution_count": 28,
     "metadata": {},
     "output_type": "execute_result"
    }
   ],
   "source": [
    "aluno.clear()\n",
    "aluno"
   ]
  },
  {
   "cell_type": "markdown",
   "metadata": {},
   "source": [
    "### Podemos associar estruturas às chaves"
   ]
  },
  {
   "cell_type": "code",
   "execution_count": 29,
   "metadata": {},
   "outputs": [],
   "source": [
    "aluno = {'Nome':'Jonh','Idade':20,'Email':'jonhbrian@hotmail.com'}\n",
    "aluno['Telefone'] = '98753-6536'"
   ]
  },
  {
   "cell_type": "code",
   "execution_count": 30,
   "metadata": {},
   "outputs": [],
   "source": [
    "aluno['Matérias'] = ['Sinais I','Dispositivos','LAB I','APA','POO']"
   ]
  },
  {
   "cell_type": "code",
   "execution_count": 31,
   "metadata": {},
   "outputs": [
    {
     "data": {
      "text/plain": [
       "{'Nome': 'Jonh',\n",
       " 'Idade': 20,\n",
       " 'Email': 'jonhbrian@hotmail.com',\n",
       " 'Telefone': '98753-6536',\n",
       " 'Matérias': ['Sinais I', 'Dispositivos', 'LAB I', 'APA', 'POO']}"
      ]
     },
     "execution_count": 31,
     "metadata": {},
     "output_type": "execute_result"
    }
   ],
   "source": [
    "aluno"
   ]
  },
  {
   "cell_type": "code",
   "execution_count": 32,
   "metadata": {},
   "outputs": [
    {
     "data": {
      "text/plain": [
       "['Sinais I', 'Dispositivos', 'LAB I', 'APA', 'POO']"
      ]
     },
     "execution_count": 32,
     "metadata": {},
     "output_type": "execute_result"
    }
   ],
   "source": [
    "aluno['Matérias']"
   ]
  },
  {
   "cell_type": "code",
   "execution_count": 33,
   "metadata": {},
   "outputs": [
    {
     "data": {
      "text/plain": [
       "list"
      ]
     },
     "execution_count": 33,
     "metadata": {},
     "output_type": "execute_result"
    }
   ],
   "source": [
    "type(aluno['Matérias'])"
   ]
  },
  {
   "cell_type": "markdown",
   "metadata": {},
   "source": [
    "### Realizar buscas em um dicionário"
   ]
  },
  {
   "cell_type": "code",
   "execution_count": 34,
   "metadata": {},
   "outputs": [
    {
     "data": {
      "text/plain": [
       "True"
      ]
     },
     "execution_count": 34,
     "metadata": {},
     "output_type": "execute_result"
    }
   ],
   "source": [
    "'Idade' in aluno #Equivale a buscar em aluno.keys()"
   ]
  },
  {
   "cell_type": "code",
   "execution_count": 35,
   "metadata": {},
   "outputs": [
    {
     "name": "stdout",
     "output_type": "stream",
     "text": [
      "Jonh está no dicionário.\n"
     ]
    }
   ],
   "source": [
    "pessoa = 'Jonh'\n",
    "if(pessoa in aluno.values()):\n",
    "    print(f'{pessoa} está no dicionário.')\n",
    "else:\n",
    "    print(f'{pessoa} não está no dicionário.')"
   ]
  },
  {
   "cell_type": "markdown",
   "metadata": {},
   "source": [
    "### Dicionário vs Lista"
   ]
  },
  {
   "cell_type": "markdown",
   "metadata": {},
   "source": [
    "Podemos emular uma lista em um dicionário, mas isso não é muito útil "
   ]
  },
  {
   "cell_type": "code",
   "execution_count": 36,
   "metadata": {},
   "outputs": [],
   "source": [
    "aluno_dict = {0:'Jonh', 1:20, 2:'jonhbrian@hotmail.com'}"
   ]
  },
  {
   "cell_type": "code",
   "execution_count": 37,
   "metadata": {},
   "outputs": [],
   "source": [
    "aluno_list = ['Jonh',20,'jonhbrian@hotmail.com']"
   ]
  },
  {
   "cell_type": "code",
   "execution_count": 38,
   "metadata": {
    "scrolled": false
   },
   "outputs": [
    {
     "name": "stdout",
     "output_type": "stream",
     "text": [
      "Jonh - Jonh\n"
     ]
    }
   ],
   "source": [
    "print(f'{aluno_dict[0]} - {aluno_list[0]}')"
   ]
  },
  {
   "cell_type": "code",
   "execution_count": 39,
   "metadata": {},
   "outputs": [],
   "source": [
    "aluno = {'Nome':'Jonh','Idade':20,'Email':'jonhbrian@hotmail.com'}"
   ]
  },
  {
   "cell_type": "code",
   "execution_count": 40,
   "metadata": {},
   "outputs": [
    {
     "name": "stdout",
     "output_type": "stream",
     "text": [
      "Jonh\n"
     ]
    }
   ],
   "source": [
    "print(aluno['Nome'])"
   ]
  },
  {
   "cell_type": "markdown",
   "metadata": {},
   "source": [
    "#### Exemplo 1:"
   ]
  },
  {
   "cell_type": "code",
   "execution_count": 41,
   "metadata": {},
   "outputs": [],
   "source": [
    "geofisica = {\n",
    "    'Duração':'4 anos',\n",
    "    'Turno':'Diurno',\n",
    "    'Carga Horária':3468,\n",
    "    'Matérias':{\n",
    "        '1ºSem':['Física 1','Geologia Física','GA','Cálculo A','Química'],\n",
    "        '2ºSem':['Física 2','Minerologia e Petrologia','Sedimentologia e Estratigrafia','Cálculo B','Álgebra Linear'],\n",
    "        '3ºSem':['Física 3','Geologia Estrutural e Geotectônica','Elementos de Geofísica','Cálculo C']\n",
    "                }\n",
    "            }"
   ]
  },
  {
   "cell_type": "code",
   "execution_count": 42,
   "metadata": {},
   "outputs": [
    {
     "data": {
      "text/plain": [
       "dict_keys(['Duração', 'Turno', 'Carga Horária', 'Matérias'])"
      ]
     },
     "execution_count": 42,
     "metadata": {},
     "output_type": "execute_result"
    }
   ],
   "source": [
    "geofisica.keys()"
   ]
  },
  {
   "cell_type": "code",
   "execution_count": 43,
   "metadata": {},
   "outputs": [
    {
     "data": {
      "text/plain": [
       "'4 anos'"
      ]
     },
     "execution_count": 43,
     "metadata": {},
     "output_type": "execute_result"
    }
   ],
   "source": [
    "geofisica['Duração']"
   ]
  },
  {
   "cell_type": "code",
   "execution_count": 44,
   "metadata": {},
   "outputs": [
    {
     "data": {
      "text/plain": [
       "['Física 1', 'Geologia Física', 'GA', 'Cálculo A', 'Química']"
      ]
     },
     "execution_count": 44,
     "metadata": {},
     "output_type": "execute_result"
    }
   ],
   "source": [
    "geofisica['Matérias']['1ºSem']"
   ]
  },
  {
   "cell_type": "code",
   "execution_count": 45,
   "metadata": {},
   "outputs": [
    {
     "name": "stdout",
     "output_type": "stream",
     "text": [
      "1ºSem:\n",
      "Física 1 | Geologia Física | GA | Cálculo A | Química | \n",
      "\n",
      "2ºSem:\n",
      "Física 2 | Minerologia e Petrologia | Sedimentologia e Estratigrafia | Cálculo B | Álgebra Linear | \n",
      "\n",
      "3ºSem:\n",
      "Física 3 | Geologia Estrutural e Geotectônica | Elementos de Geofísica | Cálculo C | \n",
      "\n"
     ]
    }
   ],
   "source": [
    "for semestre in geofisica['Matérias']:\n",
    "    print(f'{semestre}:')\n",
    "    for materias in geofisica['Matérias'][semestre]:\n",
    "        print(materias,end=' | ')\n",
    "    print('\\n')"
   ]
  },
  {
   "cell_type": "code",
   "execution_count": null,
   "metadata": {},
   "outputs": [],
   "source": []
  }
 ],
 "metadata": {
  "kernelspec": {
   "display_name": "Python 3",
   "language": "python",
   "name": "python3"
  },
  "language_info": {
   "codemirror_mode": {
    "name": "ipython",
    "version": 3
   },
   "file_extension": ".py",
   "mimetype": "text/x-python",
   "name": "python",
   "nbconvert_exporter": "python",
   "pygments_lexer": "ipython3",
   "version": "3.7.6"
  }
 },
 "nbformat": 4,
 "nbformat_minor": 4
}
